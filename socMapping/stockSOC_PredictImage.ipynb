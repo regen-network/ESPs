{
 "cells": [
  {
   "cell_type": "code",
   "execution_count": 1,
   "id": "aff9a2c5",
   "metadata": {},
   "outputs": [],
   "source": [
    "# This script is used to predict SOC% or stock to create an output image based on linear \n",
    "# regression model coefficients calculated from the previous (StockSOC_ProcessPoints) script. \n",
    "# The output will be a 16-bit integer GeoTIFF image with pixel units of either SOC \n",
    "# stock/hectare or SOC%/hectare. \n",
    "\n",
    "# This script was written by Ned Horning [ned.horning@regen.network]\n",
    "\n",
    "# This script is free software; you can redistribute it and/or modify it under the\n",
    "# terms of the Apache License 2.0 License.  "
   ]
  },
  {
   "cell_type": "code",
   "execution_count": 2,
   "id": "58b0f7ef",
   "metadata": {},
   "outputs": [],
   "source": [
    "import ee\n",
    "import geemap\n",
    "import json\n",
    "import os\n",
    "import requests\n",
    "from datetime import datetime\n",
    "from geemap import geojson_to_ee, ee_to_geojson\n",
    "import geopandas as gpd \n",
    "import pandas as pd\n",
    "import pickle\n",
    "import math\n",
    "\n",
    "ee.Initialize()"
   ]
  },
  {
   "cell_type": "code",
   "execution_count": 3,
   "id": "56c35b0a",
   "metadata": {},
   "outputs": [],
   "source": [
    "### Enter Sentinel image date as numbers for year, month, day ###\n",
    "date = ee.Date.fromYMD(2021, 11, 11) # This is the date of the image you want to process  \n",
    "\n",
    "# Scale (resolution) in meters for the output image\n",
    "pixScale = 20\n",
    "\n",
    "# Cloud masking parameters - for more information about the workflow and avriables see:\n",
    "# https://developers.google.com/earth-engine/tutorials/community/sentinel-2-s2cloudless\n",
    "CLOUD_FILTER = 60\n",
    "CLOUD_PROBABILITY_THRESHOLD = 50\n",
    "NIR_DARK_THRESHOLD = 0.15\n",
    "CLOUD_PROJECTED_DISTANCE = 1\n",
    "BUFFER = 50"
   ]
  },
  {
   "cell_type": "code",
   "execution_count": 4,
   "id": "6bf5efa5",
   "metadata": {},
   "outputs": [],
   "source": [
    "### Enter input and output file paths and names ###\n",
    "boundaryShp = \"\"\n",
    "outImage = \"\""
   ]
  },
  {
   "cell_type": "code",
   "execution_count": 5,
   "id": "c8bbdbb5",
   "metadata": {},
   "outputs": [],
   "source": [
    "### Enter intercept, regression coefficients and image bands to use ###\n",
    "intercept = -0.0044025\n",
    "coef = [-6.76970035e-03, 6.17522235e-03, 1.19328667e+01]\n",
    "bands = ['B7', 'B8A', 'nbr2']"
   ]
  },
  {
   "cell_type": "code",
   "execution_count": 6,
   "id": "76f75e4e",
   "metadata": {},
   "outputs": [],
   "source": [
    "# Function to get image data and apply cloud/shadow filter\n",
    "def get_s2_sr_cld_col(aoi, start_date):\n",
    "    # Import and filter S2 SR.\n",
    "    s2_sr_col = (ee.ImageCollection('COPERNICUS/S2_SR')\n",
    "        .filterBounds(aoi)\n",
    "        #.filterMetadata('MGRS_TILE', 'equals', '14SKJ')  # Use this to specify a specific tile\n",
    "        .filterDate(start_date, start_date.advance(1, 'day'))\n",
    "        .filter(ee.Filter.lte('CLOUDY_PIXEL_PERCENTAGE', CLOUD_FILTER)))\n",
    "\n",
    "    # Import and filter s2cloudless.\n",
    "    s2_cloudless_col = (ee.ImageCollection('COPERNICUS/S2_CLOUD_PROBABILITY')\n",
    "        .filterBounds(aoi)\n",
    "        .filterDate(start_date, start_date.advance(1, 'day')))\n",
    "\n",
    "    # Join the filtered s2cloudless collection to the SR collection by the 'system:index' property.\n",
    "    return ee.ImageCollection(ee.Join.saveFirst('s2cloudless').apply(**{\n",
    "        'primary': s2_sr_col,\n",
    "        'secondary': s2_cloudless_col,\n",
    "        'condition': ee.Filter.equals(**{\n",
    "            'leftField': 'system:index',\n",
    "            'rightField': 'system:index'\n",
    "        })\n",
    "    }))"
   ]
  },
  {
   "cell_type": "code",
   "execution_count": 7,
   "id": "2283c877",
   "metadata": {},
   "outputs": [],
   "source": [
    "# Cloud cover function\n",
    "\n",
    "def add_cloud_bands(img):\n",
    "    # Get s2cloudless image, subset the probability band.\n",
    "    cld_prb = ee.Image(img.get('s2cloudless')).select('probability')\n",
    "\n",
    "    # Condition s2cloudless by the probability threshold value.\n",
    "    is_cloud = cld_prb.gt(CLOUD_PROBABILITY_THRESHOLD).rename('clouds')\n",
    "\n",
    "    # Add the cloud probability layer and cloud mask as image bands.\n",
    "    return img.addBands(ee.Image([cld_prb, is_cloud]))"
   ]
  },
  {
   "cell_type": "code",
   "execution_count": 8,
   "id": "f0c58076",
   "metadata": {},
   "outputs": [],
   "source": [
    "def add_shadow_bands(img):\n",
    "    # Identify water pixels from the SCL band.\n",
    "    not_water = img.select('SCL').neq(6)\n",
    "\n",
    "    # Identify dark NIR pixels that are not water (potential cloud shadow pixels).\n",
    "    SR_BAND_SCALE = 1e4\n",
    "    dark_pixels = img.select('B8').lt(NIR_DARK_THRESHOLD*SR_BAND_SCALE).multiply(not_water).rename('dark_pixels')\n",
    "\n",
    "    # Determine the direction to project cloud shadow from clouds (assumes UTM projection).\n",
    "    shadow_azimuth = ee.Number(90).subtract(ee.Number(img.get('MEAN_SOLAR_AZIMUTH_ANGLE')));\n",
    "\n",
    "    # Project shadows from clouds for the distance specified by the CLD_PRJ_DIST input.\n",
    "    cld_proj = (img.select('clouds').directionalDistanceTransform(shadow_azimuth, CLOUD_PROJECTED_DISTANCE *10)\n",
    "        .reproject(**{'crs': img.select(0).projection(), 'scale': 100})\n",
    "        .select('distance')\n",
    "        .mask()\n",
    "        .rename('cloud_transform'))\n",
    "\n",
    "    # Identify the intersection of dark pixels with cloud shadow projection.\n",
    "    shadows = cld_proj.multiply(dark_pixels).rename('shadows')\n",
    "\n",
    "    # Add dark pixels, cloud projection, and identified shadows as image bands.\n",
    "    return img.addBands(ee.Image([dark_pixels, cld_proj, shadows]))"
   ]
  },
  {
   "cell_type": "code",
   "execution_count": 9,
   "id": "2c3b76d8",
   "metadata": {},
   "outputs": [],
   "source": [
    "def add_cld_shdw_mask(img):\n",
    "    # Add cloud component bands.\n",
    "    img_cloud = add_cloud_bands(img)\n",
    "\n",
    "    # Add cloud shadow component bands.\n",
    "    img_cloud_shadow = add_shadow_bands(img_cloud)\n",
    "\n",
    "    # Combine cloud and shadow mask, set cloud and shadow as value 1, else 0.\n",
    "    is_cld_shdw = img_cloud_shadow.select('clouds').add(img_cloud_shadow.select('shadows')).gt(0)\n",
    "\n",
    "    # Remove small cloud-shadow patches and dilate remaining pixels by BUFFER input.\n",
    "    # 20 m scale is for speed, and assumes clouds don't require 10 m precision.\n",
    "    is_cld_shdw = (is_cld_shdw.focal_min(2).focal_max(BUFFER*2/20)\n",
    "        .reproject(**{'crs': img.select([0]).projection(), 'scale': 20})\n",
    "        .rename('cloudmask'))\n",
    "\n",
    "    # Add the final cloud-shadow mask to the image.\n",
    "    return img_cloud_shadow.addBands(is_cld_shdw)\n",
    "# return img.addBands(is_cld_shdw)"
   ]
  },
  {
   "cell_type": "code",
   "execution_count": 10,
   "id": "bba85b27",
   "metadata": {},
   "outputs": [],
   "source": [
    "def apply_cld_shdw_mask(img):\n",
    "    # Subset the cloudmask band and invert it so clouds/shadow are 0, else 1.\n",
    "    not_cld_shdw = img.select('cloudmask').Not()\n",
    "\n",
    "    # Subset reflectance bands and update their masks, return the result.\n",
    "    return img.select('B.*').updateMask(not_cld_shdw)"
   ]
  },
  {
   "cell_type": "code",
   "execution_count": 11,
   "id": "f76dd9c8",
   "metadata": {},
   "outputs": [],
   "source": [
    "# Function make the server-side feature collection accessible to the client\n",
    "def getValues(fc):\n",
    "    features = fc.getInfo()['features']\n",
    "    dictarr = []\n",
    "    for f in features:\n",
    "        attr = f['properties']\n",
    "        dictarr.append(attr)\n",
    "    return dictarr"
   ]
  },
  {
   "cell_type": "code",
   "execution_count": 12,
   "id": "7011674f",
   "metadata": {},
   "outputs": [],
   "source": [
    "# Convert input boundary Shapefile to a GEE boundary feature to constrain spatial extent\n",
    "boundary_ee = geemap.shp_to_ee(boundaryShp)"
   ]
  },
  {
   "cell_type": "code",
   "execution_count": 13,
   "id": "0b51d786",
   "metadata": {},
   "outputs": [],
   "source": [
    "# Get image data using temporal and spatial constraints\n",
    "s2_sr_cld_col = get_s2_sr_cld_col(boundary_ee, date)"
   ]
  },
  {
   "cell_type": "code",
   "execution_count": 14,
   "id": "6e2ef86b",
   "metadata": {},
   "outputs": [],
   "source": [
    "# Apply cloud/shadow mask and add NDVI layer\n",
    "sentinelCollection = (s2_sr_cld_col.map(add_cld_shdw_mask)\n",
    "                             .map(apply_cld_shdw_mask))"
   ]
  },
  {
   "cell_type": "code",
   "execution_count": 15,
   "id": "b9b1988e",
   "metadata": {},
   "outputs": [],
   "source": [
    "# Image display parameters\n",
    "sentinel_vis = {\n",
    "    'min': 0,\n",
    "    'max': 2500,\n",
    "    'gamma': [1.1],\n",
    "    'bands': ['B4', 'B3', 'B2']}\n",
    "\n",
    "predViz = {'min': 0, 'max': 4, 'palette': ['FF0000', '00FF00']}"
   ]
  },
  {
   "cell_type": "code",
   "execution_count": 16,
   "id": "6ee9f8e4",
   "metadata": {},
   "outputs": [],
   "source": [
    "# Dictionary to store all points\n",
    "allPoints = {}"
   ]
  },
  {
   "cell_type": "code",
   "execution_count": 17,
   "id": "9cdab686",
   "metadata": {},
   "outputs": [],
   "source": [
    "# Calculate Topographic wetness index and extract points\n",
    "upslopeArea = (ee.Image(\"MERIT/Hydro/v1_0_1\")\n",
    "    .select('upa'))\n",
    "elv = (ee.Image(\"MERIT/Hydro/v1_0_1\")\n",
    "    .select('elv'))\n",
    "\n",
    "slope = ee.Terrain.slope(elv)\n",
    "upslopeArea = upslopeArea.multiply(1000000).rename('UpslopeArea')\n",
    "slopeRad = slope.divide(180).multiply(math.pi)\n",
    "TWI = ee.Image.log(upslopeArea.divide(slopeRad.tan())).rename('twi')"
   ]
  },
  {
   "cell_type": "code",
   "execution_count": 18,
   "id": "4e3e6750",
   "metadata": {},
   "outputs": [],
   "source": [
    "# Read in and extract points for continuous heat-insolation load index and extract points\n",
    "chili = (ee.Image(\"CSP/ERGo/1_0/Global/SRTM_CHILI\"))"
   ]
  },
  {
   "cell_type": "code",
   "execution_count": 19,
   "id": "3171d8c4",
   "metadata": {},
   "outputs": [],
   "source": [
    "img = sentinelCollection.first().addBands(TWI).addBands(chili.rename('chili'))"
   ]
  },
  {
   "cell_type": "code",
   "execution_count": 20,
   "id": "4f2fd05a",
   "metadata": {},
   "outputs": [],
   "source": [
    "# Calculate NDVI\n",
    "ndvi = img.expression('(nir - red)/(nir + red)', {\n",
    "    'red' : img.select('B4'),\n",
    "    'nir' : img.select('B8')}).rename('ndvi')"
   ]
  },
  {
   "cell_type": "code",
   "execution_count": 21,
   "id": "cd1e15b2",
   "metadata": {},
   "outputs": [],
   "source": [
    "# Calculate SATVI\n",
    "satvi = img.expression('((swir1 -red)/(swir1 + red+0.5)) * 1.5 - (swir2/2)', {\n",
    "    'red' : img.select('B4'),\n",
    "    'swir1' : img.select('B11'),\n",
    "    'swir2' : img.select('B12')}).rename('satvi')"
   ]
  },
  {
   "cell_type": "code",
   "execution_count": 22,
   "id": "ea4204dc",
   "metadata": {},
   "outputs": [],
   "source": [
    "# Calculate NBR2\n",
    "nbr2 = img.expression('(swir1 -swir2)/(swir1 + swir2)', {\n",
    "    'swir1' : img.select('B11'),\n",
    "    'swir2' : img.select('B12')}).rename('nbr2')"
   ]
  },
  {
   "cell_type": "code",
   "execution_count": 23,
   "id": "7fac17a1",
   "metadata": {},
   "outputs": [],
   "source": [
    "# Calculate SOCI\n",
    "soci = img.expression('blue/(red * green)', {\n",
    "    'blue' : img.select('B2'),\n",
    "    'green' : img.select('B3'),\n",
    "    'red' : img.select('B4')}).rename('soci')"
   ]
  },
  {
   "cell_type": "code",
   "execution_count": 24,
   "id": "4b7a31b8",
   "metadata": {},
   "outputs": [],
   "source": [
    "# Calculate BSI\n",
    "bsi = img.expression('(swir1 + red) -(nir + blue) / (swir1 + red) + (nir + blue)', {\n",
    "    'blue' : img.select('B2'),\n",
    "    'red' : img.select('B4'),\n",
    "    'nir' : img.select('B8'),\n",
    "    'swir1' : img.select('B11')}).rename('bsi')"
   ]
  },
  {
   "cell_type": "code",
   "execution_count": 25,
   "id": "89ea7da9",
   "metadata": {},
   "outputs": [],
   "source": [
    "# Combine all bands into a single image\n",
    "finalImage = img.addBands(ndvi).addBands(satvi).addBands(nbr2).addBands(soci).addBands(bsi)"
   ]
  },
  {
   "cell_type": "code",
   "execution_count": 26,
   "id": "2abd2386",
   "metadata": {},
   "outputs": [
    {
     "name": "stdout",
     "output_type": "stream",
     "text": [
      "Prediction equation: -0.0044025 + (-0.00676970035 * b1) + (0.00617522235 * b2) + (11.9328667 * b3)\n"
     ]
    }
   ],
   "source": [
    "# Select the regression prediction algoritm bases on number of coefficients\n",
    "if len(coef) == 2 :\n",
    "    exp = str(intercept) + ' + (' + str(coef[0]) + ' * b1)' + ' + (' + str(coef[1]) + ' * b2)'\n",
    "    print('Prediction equation: ' + exp)\n",
    "    predImage = finalImage.expression(exp, {\n",
    "            'b1' : finalImage.select(bands[0]),\n",
    "            'b3' : finalImage.select(bands[1])})\n",
    "elif len(coef) == 3 :\n",
    "    exp = str(intercept) + ' + (' + str(coef[0]) + ' * b1)' + ' + (' + str(coef[1]) + ' * b2)' + \\\n",
    "    ' + (' + str(coef[2]) + ' * b3)'\n",
    "    print('Prediction equation: ' + exp)\n",
    "    predImage = finalImage.expression(exp, {\n",
    "            'b1' : finalImage.select(bands[0]),\n",
    "            'b2' : finalImage.select(bands[1]),\n",
    "            'b3' : finalImage.select(bands[2])})\n",
    "elif len(coef) == 4 :\n",
    "    exp = str(intercept) + ' + (' + str(coef[0]) + ' * b1)' + ' + (' + str(coef[1]) + ' * b2)' + \\\n",
    "    ' + (' + str(coef[2]) + ' * b3)' + ' + (' + str(coef[3]) + ' * b4)' \n",
    "    print('Prediction equation: ' + exp)\n",
    "    predImage = finalImage.expression(exp, {\n",
    "            'b1' : finalImage.select(bands[0]),\n",
    "            'b2' : finalImage.select(bands[1]),\n",
    "            'b3' : finalImage.select(bands[2]),\n",
    "            'b4' : finalImage.select(bands[3])})\n",
    "else:\n",
    "    print(\"The number of regression coeficients must be between 2 and 4\")"
   ]
  },
  {
   "cell_type": "code",
   "execution_count": 27,
   "id": "6298b899",
   "metadata": {},
   "outputs": [
    {
     "data": {
      "application/vnd.jupyter.widget-view+json": {
       "model_id": "755e659759f34163a0536f0de7830de2",
       "version_major": 2,
       "version_minor": 0
      },
      "text/plain": [
       "Map(center=[-35.67499677019506, -57.35992011308164], controls=(WidgetControl(options=['position', 'transparent…"
      ]
     },
     "metadata": {},
     "output_type": "display_data"
    }
   ],
   "source": [
    "Map=geemap.Map()\n",
    "Map.centerObject(boundary_ee, 13)\n",
    "Map.addLayer(predImage, predViz, 'pred')\n",
    "Map.addLayer(boundary_ee, {}, \"Boundary EE\")\n",
    "Map"
   ]
  },
  {
   "cell_type": "code",
   "execution_count": 28,
   "id": "282bac87",
   "metadata": {},
   "outputs": [
    {
     "data": {
      "application/vnd.jupyter.widget-view+json": {
       "model_id": "fc7d560248cf4ac6bfab05321980913c",
       "version_major": 2,
       "version_minor": 0
      },
      "text/plain": [
       "Map(center=[-35.67499677019506, -57.35992011308164], controls=(WidgetControl(options=['position', 'transparent…"
      ]
     },
     "metadata": {},
     "output_type": "display_data"
    }
   ],
   "source": [
    "Map=geemap.Map()\n",
    "Map.centerObject(boundary_ee, 13)\n",
    "Map.addLayer(finalImage, sentinel_vis, \"image\")\n",
    "Map.addLayer(boundary_ee, {}, \"Boundary EE\")\n",
    "Map"
   ]
  },
  {
   "cell_type": "code",
   "execution_count": 29,
   "id": "6d974ece",
   "metadata": {},
   "outputs": [],
   "source": [
    "# Multiply the output image by 1000 to be able to convert to integer allowing larger areas to be downloaded\n",
    "outputImage = predImage.multiply(1000).round().toInt16()"
   ]
  },
  {
   "cell_type": "code",
   "execution_count": 30,
   "id": "a57cd301",
   "metadata": {},
   "outputs": [
    {
     "name": "stdout",
     "output_type": "stream",
     "text": [
      "Generating URL ...\n",
      "Downloading data from https://earthengine.googleapis.com/v1alpha/projects/earthengine-legacy/thumbnails/675eee7e7dbf0b30600573428dd31811-8f0b2eaf1306b910980742c42febf566:getPixels\n",
      "Please wait ...\n",
      "Data downloaded to /home/nedhorning/RegenNetwork/Soils/Ruuts/LaEmma/GEE_Output\n"
     ]
    }
   ],
   "source": [
    "geemap.ee_export_image(outputImage, filename=outImage, scale=pixScale, region=boundary_ee.geometry(), \\\n",
    "    file_per_band=True)"
   ]
  }
 ],
 "metadata": {
  "kernelspec": {
   "display_name": "Python 3 (ipykernel)",
   "language": "python",
   "name": "python3"
  },
  "language_info": {
   "codemirror_mode": {
    "name": "ipython",
    "version": 3
   },
   "file_extension": ".py",
   "mimetype": "text/x-python",
   "name": "python",
   "nbconvert_exporter": "python",
   "pygments_lexer": "ipython3",
   "version": "3.9.13"
  }
 },
 "nbformat": 4,
 "nbformat_minor": 5
}
