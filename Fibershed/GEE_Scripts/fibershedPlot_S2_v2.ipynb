{
 "cells": [
  {
   "cell_type": "code",
   "execution_count": 1,
   "id": "58b0f7ef",
   "metadata": {},
   "outputs": [],
   "source": [
    "# Using this for cloud cover: https://developers.google.com/earth-engine/tutorials/community/sentinel-2-s2cloudless\n",
    "\n",
    "import ee\n",
    "import geemap\n",
    "import json\n",
    "import os\n",
    "import requests\n",
    "from datetime import datetime\n",
    "from datetime import date\n",
    "from geemap import geojson_to_ee, ee_to_geojson\n",
    "import geopandas as gpd \n",
    "import pandas as pd\n",
    "import pickle\n",
    "import math\n",
    "import numpy as np\n",
    "from matplotlib.backends.backend_pdf import PdfPages\n",
    "import matplotlib.pyplot as plt\n",
    "import matplotlib.dates as mdates\n",
    "#import statsmodels.api as sm\n",
    "ee.Initialize()"
   ]
  },
  {
   "cell_type": "code",
   "execution_count": 2,
   "id": "c899c566",
   "metadata": {},
   "outputs": [],
   "source": [
    "#ee.Authenticate()"
   ]
  },
  {
   "cell_type": "code",
   "execution_count": 3,
   "id": "56c35b0a",
   "metadata": {},
   "outputs": [],
   "source": [
    "# Enter  start and end date as numbers for year, month, day\n",
    "startDate = ee.Date.fromYMD(2022, 1, 1)\n",
    "endDate = ee.Date.fromYMD(2022, 4, 30)\n",
    "cloudFilter = 60\n",
    "cloudProbabilityThreshold = 50\n",
    "nirDarkThreshold = 0.15\n",
    "cloudPProjectedDistance = 1\n",
    "buffer = 50\n",
    "# Distance in meters to shrink the plot polygons\n",
    "shrinkBuffer = 20.0\n",
    "\n",
    "outputPDF = \"/home/nedhorning/RegenNetwork/fiberShed/GrazingReport2021_2022/KaosNorth2021_22_test_v2.pdf\"\n",
    "boundaryShp = \"/home/nedhorning/RegenNetwork/fiberShed/GrazingReport2021_2022/KaosNorth1Aug2022UTM10.shp\"\n"
   ]
  },
  {
   "cell_type": "code",
   "execution_count": 4,
   "id": "76f75e4e",
   "metadata": {},
   "outputs": [],
   "source": [
    "def get_s2_sr_cld_col(aoi, start_date, end_date):\n",
    "    # Import and filter S2 SR.\n",
    "    s2_sr_col = (ee.ImageCollection('COPERNICUS/S2_SR')\n",
    "        .filterBounds(aoi)\n",
    "        #.filterMetadata('MGRS_TILE', 'equals', '14SKJ')\n",
    "        .filterDate(start_date, end_date)\n",
    "        .filter(ee.Filter.lte('CLOUDY_PIXEL_PERCENTAGE', cloudFilter)))\n",
    "\n",
    "    # Import and filter s2cloudless.\n",
    "    s2_cloudless_col = (ee.ImageCollection('COPERNICUS/S2_CLOUD_PROBABILITY')\n",
    "        .filterBounds(aoi)\n",
    "        #.filterMetadata('MGRS_TILE', 'equals', '14SKJ')\n",
    "        .filterDate(start_date, end_date))\n",
    "\n",
    "    # Join the filtered s2cloudless collection to the SR collection by the 'system:index' property.\n",
    "    return ee.ImageCollection(ee.Join.saveFirst('s2cloudless').apply(**{\n",
    "        'primary': s2_sr_col,\n",
    "        'secondary': s2_cloudless_col,\n",
    "        'condition': ee.Filter.equals(**{\n",
    "            'leftField': 'system:index',\n",
    "            'rightField': 'system:index'\n",
    "        })\n",
    "    }))"
   ]
  },
  {
   "cell_type": "code",
   "execution_count": 5,
   "id": "2283c877",
   "metadata": {},
   "outputs": [],
   "source": [
    "def add_cloud_bands(img):\n",
    "    # Get s2cloudless image, subset the probability band.\n",
    "    cld_prb = ee.Image(img.get('s2cloudless')).select('probability')\n",
    "\n",
    "    # Condition s2cloudless by the probability threshold value.\n",
    "    is_cloud = cld_prb.gt(cloudProbabilityThreshold).rename('clouds')\n",
    "\n",
    "    # Add the cloud probability layer and cloud mask as image bands.\n",
    "    return img.addBands(ee.Image([cld_prb, is_cloud]))"
   ]
  },
  {
   "cell_type": "code",
   "execution_count": 6,
   "id": "f0c58076",
   "metadata": {},
   "outputs": [],
   "source": [
    "def add_shadow_bands(img):\n",
    "    # Identify water pixels from the SCL band.\n",
    "    not_water = img.select('SCL').neq(6)\n",
    "\n",
    "    # Identify dark NIR pixels that are not water (potential cloud shadow pixels).\n",
    "    SR_BAND_SCALE = 1e4\n",
    "    dark_pixels = img.select('B8').lt(nirDarkThreshold*SR_BAND_SCALE).multiply(not_water).rename('dark_pixels')\n",
    "\n",
    "    # Determine the direction to project cloud shadow from clouds (assumes UTM projection).\n",
    "    shadow_azimuth = ee.Number(90).subtract(ee.Number(img.get('MEAN_SOLAR_AZIMUTH_ANGLE')));\n",
    "\n",
    "    # Project shadows from clouds for the distance specified by the CLD_PRJ_DIST input.\n",
    "    cld_proj = (img.select('clouds').directionalDistanceTransform(shadow_azimuth, cloudPProjectedDistance *10)\n",
    "        .reproject(**{'crs': img.select(0).projection(), 'scale': 100})\n",
    "        .select('distance')\n",
    "        .mask()\n",
    "        .rename('cloud_transform'))\n",
    "\n",
    "    # Identify the intersection of dark pixels with cloud shadow projection.\n",
    "    shadows = cld_proj.multiply(dark_pixels).rename('shadows')\n",
    "\n",
    "    # Add dark pixels, cloud projection, and identified shadows as image bands.\n",
    "    return img.addBands(ee.Image([dark_pixels, cld_proj, shadows]))"
   ]
  },
  {
   "cell_type": "code",
   "execution_count": 7,
   "id": "2c3b76d8",
   "metadata": {},
   "outputs": [],
   "source": [
    "def add_cld_shdw_mask(img):\n",
    "    # Add cloud component bands.\n",
    "    img_cloud = add_cloud_bands(img)\n",
    "\n",
    "    # Add cloud shadow component bands.\n",
    "    img_cloud_shadow = add_shadow_bands(img_cloud)\n",
    "\n",
    "    # Combine cloud and shadow mask, set cloud and shadow as value 1, else 0.\n",
    "    is_cld_shdw = img_cloud_shadow.select('clouds').add(img_cloud_shadow.select('shadows')).gt(0)\n",
    "\n",
    "    # Remove small cloud-shadow patches and dilate remaining pixels by BUFFER input.\n",
    "    # 20 m scale is for speed, and assumes clouds don't require 10 m precision.\n",
    "    is_cld_shdw = (is_cld_shdw.focal_min(2).focal_max(buffer*2/20)\n",
    "        .reproject(**{'crs': img.select([0]).projection(), 'scale': 20})\n",
    "        .rename('cloudmask'))\n",
    "\n",
    "    # Add the final cloud-shadow mask to the image.\n",
    "    return img_cloud_shadow.addBands(is_cld_shdw)\n",
    "# return img.addBands(is_cld_shdw)"
   ]
  },
  {
   "cell_type": "code",
   "execution_count": 8,
   "id": "bba85b27",
   "metadata": {},
   "outputs": [],
   "source": [
    "def apply_cld_shdw_mask(img):\n",
    "    # Subset the cloudmask band and invert it so clouds/shadow are 0, else 1.\n",
    "    not_cld_shdw = img.select('cloudmask').Not()\n",
    "\n",
    "    # Subset reflectance bands and update their masks, return the result.\n",
    "    return img.select('B.*').updateMask(not_cld_shdw)"
   ]
  },
  {
   "cell_type": "code",
   "execution_count": 9,
   "id": "6722c182",
   "metadata": {},
   "outputs": [],
   "source": [
    "# Need to add cloud removal\n",
    "def addNDVI(image):\n",
    "  #image.updateMask(cloudmask)\n",
    "  return image.addBands(image.normalizedDifference(['B8', 'B4']))"
   ]
  },
  {
   "cell_type": "code",
   "execution_count": 10,
   "id": "f76dd9c8",
   "metadata": {},
   "outputs": [],
   "source": [
    "def getValues(fc):\n",
    "    features = fc.getInfo()['features']\n",
    "    dictarr = []\n",
    "    for f in features:\n",
    "        attr = f['properties']\n",
    "        dictarr.append(attr)\n",
    "    return dictarr"
   ]
  },
  {
   "cell_type": "code",
   "execution_count": 11,
   "id": "5bd5ae40",
   "metadata": {},
   "outputs": [],
   "source": [
    "def wasGrazed(ndviAndDates, endOfGrazing, startOfGrazing):\n",
    "    endOfGrazingDate = datetime.strptime(endOfGrazing, \"%Y/%m/%d\")\n",
    "    startOfGrazingDate = datetime.strptime(startOfGrazing, \"%Y/%m/%d\")\n",
    "    ndviDates = [datetime.strptime(d, \"%Y_%m_%d\") for d in ndviAndDates['ImageDate']]\n",
    "    ndviDates_np = np.asarray(ndviDates)\n",
    "    ndviVec = ndviAndDates['normalizedNDVI']\n",
    "    ndviVec_np = ndviVec.to_numpy()\n",
    "    quantNDVI50 = np.quantile(ndviVec_np, 0.5)\n",
    "    greaterDates = ndviDates_np[np.where(ndviDates_np > endOfGrazingDate)]\n",
    "    nextDate = greaterDates[np.where(abs(greaterDates-endOfGrazingDate) == min(abs(greaterDates-endOfGrazingDate)))]\n",
    "    nextDateIndex = np.where(ndviDates_np == nextDate)\n",
    "    lesserDates = ndviDates_np[np.where(ndviDates_np < endOfGrazingDate )]\n",
    "    prevDate = lesserDates[np.where(abs(lesserDates-endOfGrazingDate) == min(abs(lesserDates-endOfGrazingDate)))]\n",
    "    prevDateIndex = np.where(ndviDates == prevDate)\n",
    "    sameDate = endOfGrazingDate in ndviDates_np\n",
    "    \n",
    "    lesserDatesStart = ndviDates_np[np.where(ndviDates_np < startOfGrazingDate )]\n",
    "    prevDateStart = lesserDates[np.where(abs(lesserDatesStart-startOfGrazingDate) == min(abs(lesserDatesStart-startOfGrazingDate)))]\n",
    "    prevDateIndexStart = np.where(ndviDates == prevDateStart)\n",
    "\n",
    "    if ndviVec_np[prevDateIndexStart] < ndviVec_np[nextDateIndex]:\n",
    "        grazed = False\n",
    "    else:\n",
    "        if sameDate: \n",
    "            lowNDVI = ndviVec_np[np.where(ndviDates_np == endOfGrazingDate)]\n",
    "        else:\n",
    "            lowNDVI = 999\n",
    "        if ndviVec_np[nextDateIndex] < lowNDVI:\n",
    "            lowNDVI = ndviVec_np[nextDateIndex]\n",
    "        if ndviVec_np[prevDateIndex] < lowNDVI:\n",
    "            lowNDVI = ndviVec_np[prevDateIndex]\n",
    "        grazed = lowNDVI < quantNDVI50\n",
    "    return grazed"
   ]
  },
  {
   "cell_type": "code",
   "execution_count": 12,
   "id": "7011674f",
   "metadata": {},
   "outputs": [],
   "source": [
    "boundary_ee = geemap.shp_to_ee(boundaryShp)\n",
    "#boundary_buffered = boundary_ee.geometry().buffer(shrinkBuffer * -1.0)\n",
    "boundary_bounds = boundary_ee.geometry().bounds()"
   ]
  },
  {
   "cell_type": "code",
   "execution_count": 13,
   "id": "4c99e476",
   "metadata": {},
   "outputs": [],
   "source": [
    "\n",
    "#print(boundary_buffered.geometries().length().getInfo())"
   ]
  },
  {
   "cell_type": "code",
   "execution_count": 14,
   "id": "b85e736e",
   "metadata": {},
   "outputs": [],
   "source": [
    "#boundary_buffered.geometries()[[1]].getInfo()\n",
    "#boundary_buffered.coordinates().get(1).getInfo()"
   ]
  },
  {
   "cell_type": "code",
   "execution_count": 15,
   "id": "c1c9a3b7",
   "metadata": {},
   "outputs": [
    {
     "data": {
      "text/plain": [
       "{'geodesic': False,\n",
       " 'type': 'Polygon',\n",
       " 'coordinates': [[[-123.11079568312303, 38.96565506660988],\n",
       "   [-123.08907723307648, 38.96565506660988],\n",
       "   [-123.08907723307648, 38.99874036653208],\n",
       "   [-123.11079568312303, 38.99874036653208],\n",
       "   [-123.11079568312303, 38.96565506660988]]]}"
      ]
     },
     "execution_count": 15,
     "metadata": {},
     "output_type": "execute_result"
    }
   ],
   "source": [
    "boundary_bounds.getInfo()"
   ]
  },
  {
   "cell_type": "code",
   "execution_count": 16,
   "id": "0b51d786",
   "metadata": {},
   "outputs": [],
   "source": [
    "s2_sr_cld_col = get_s2_sr_cld_col(boundary_bounds, startDate, endDate)"
   ]
  },
  {
   "cell_type": "code",
   "execution_count": 17,
   "id": "6e2ef86b",
   "metadata": {},
   "outputs": [],
   "source": [
    "sentinelCollection = (s2_sr_cld_col.map(add_cld_shdw_mask)\n",
    "                             .map(apply_cld_shdw_mask)\n",
    "                             .map(addNDVI))"
   ]
  },
  {
   "cell_type": "code",
   "execution_count": 18,
   "id": "0b64a2ee",
   "metadata": {},
   "outputs": [],
   "source": [
    "datesObject = sentinelCollection.aggregate_array(\"system:time_start\")\n",
    "dateList =  datesObject.getInfo()\n",
    "#print((dateList))\n",
    "#print([datetime.fromtimestamp(x/1000).strftime('%Y-%m-%d') for x in dateList])\n",
    "dateList=[datetime.fromtimestamp(x/1000).strftime('%Y_%m_%d') for x in dateList]\n"
   ]
  },
  {
   "cell_type": "code",
   "execution_count": 19,
   "id": "ccbdf73f",
   "metadata": {},
   "outputs": [
    {
     "name": "stdout",
     "output_type": "stream",
     "text": [
      "['2022_01_07', '2022_01_09', '2022_01_12', '2022_01_14', '2022_01_17', '2022_01_19', '2022_01_22', '2022_01_24', '2022_01_27', '2022_01_29', '2022_02_01', '2022_02_06', '2022_02_08', '2022_02_11', '2022_02_13', '2022_02_16', '2022_02_18', '2022_02_21', '2022_02_23', '2022_02_28', '2022_03_05', '2022_03_08', '2022_03_10', '2022_03_13', '2022_03_18', '2022_03_20', '2022_03_23', '2022_03_25', '2022_04_02', '2022_04_07', '2022_04_09', '2022_04_17', '2022_04_22', '2022_04_24', '2022_04_27', '2022_04_29']\n"
     ]
    }
   ],
   "source": [
    "print(dateList)\n",
    "#print(sentinelCollection.first().bandNames().getInfo())"
   ]
  },
  {
   "cell_type": "code",
   "execution_count": 20,
   "id": "b9b1988e",
   "metadata": {},
   "outputs": [],
   "source": [
    "sentinel_vis = {\n",
    "    'min': 0,\n",
    "    'max': 2500,\n",
    "    'gamma': [1.1],\n",
    "    'bands': ['B4', 'B3', 'B2']}"
   ]
  },
  {
   "cell_type": "code",
   "execution_count": 21,
   "id": "9a23652b",
   "metadata": {},
   "outputs": [],
   "source": [
    "ndviViz = {'min': -0.5, \n",
    "           'max':0.9, \n",
    "           'bands': ['nd'],\n",
    "           'palette': ['FFFFFF', 'CE7E45', 'DF923D', 'F1B555', 'FCD163', \\\n",
    "                                               '99B718', '74A901', '66A000', '529400', '3E8601', \\\n",
    "                                               '207401', '056201', '004C00', '023B01', '012E01', \\\n",
    "                                               '011D01', '011301']}"
   ]
  },
  {
   "cell_type": "code",
   "execution_count": 22,
   "id": "c4f8586b",
   "metadata": {},
   "outputs": [],
   "source": [
    "ndviCollection = sentinelCollection.select('nd')\n",
    "multiBandNDVI = ndviCollection.toBands()\n",
    "multiBandNDVI = multiBandNDVI.rename(dateList)"
   ]
  },
  {
   "cell_type": "code",
   "execution_count": 23,
   "id": "396d344d",
   "metadata": {},
   "outputs": [
    {
     "name": "stdout",
     "output_type": "stream",
     "text": [
      "19\n"
     ]
    }
   ],
   "source": [
    "boundaryList = boundary_ee.toList(1000)\n",
    "print(boundaryList.length().getInfo())"
   ]
  },
  {
   "cell_type": "code",
   "execution_count": 24,
   "id": "e42cbcdf",
   "metadata": {},
   "outputs": [
    {
     "name": "stdout",
     "output_type": "stream",
     "text": [
      "[99, 100, 101, 103, 105, 106, 107, 108, 112, 151, 185, 212, 213, 214, 215, 244, 281, 287, 293]\n",
      "     startDate\n",
      "0   2022/02/09\n",
      "1   2022/02/07\n",
      "2   2022/02/16\n",
      "3   2022/02/15\n",
      "4   2022/02/17\n",
      "5   2022/02/20\n",
      "6   2022/02/20\n",
      "7   2022/02/21\n",
      "8   2022/02/25\n",
      "9   2022/02/27\n",
      "10  2022/03/04\n",
      "11  2022/03/12\n",
      "12  2022/03/13\n",
      "13  2022/03/01\n",
      "14  2022/03/06\n",
      "15  2022/03/18\n",
      "16  2022/03/22\n",
      "17  2022/03/26\n",
      "18  2022/03/26\n",
      "['2022/02/16', '2022/02/16', '2022/02/17', '2022/02/21', '2022/02/19', '2022/02/22', '2022/02/20', '2022/02/26', '2022/03/02', '2022/02/27', '2022/03/04', '2022/03/12', '2022/03/13', '2022/03/05', '2022/03/13', '2022/03/18', '2022/03/22', '2022/03/30', '2022/03/30']\n"
     ]
    }
   ],
   "source": [
    "# https://geemap.org/notebooks/select_features/#Printing-all-values-of-a-column\n",
    "names = boundary_ee.aggregate_array(\"OBJECTID\").getInfo()\n",
    "print(names)\n",
    "startDateTime = boundary_ee.aggregate_array(\"Start_Date\").getInfo()\n",
    "startDates = [x[0:10] for x in startDateTime]\n",
    "startDatesDF = pd.DataFrame(startDates, columns=['startDate'])\n",
    "endDateTime = boundary_ee.aggregate_array(\"End_Date\").getInfo()\n",
    "endDates = [x[0:10] for x in endDateTime]\n",
    "print(startDatesDF)\n",
    "print(endDates)\n",
    "#print(names[0])\n",
    "#print(len(names))"
   ]
  },
  {
   "cell_type": "code",
   "execution_count": 25,
   "id": "88b15b8b",
   "metadata": {},
   "outputs": [
    {
     "data": {
      "text/plain": [
       "list"
      ]
     },
     "execution_count": 25,
     "metadata": {},
     "output_type": "execute_result"
    }
   ],
   "source": [
    "type(names)"
   ]
  },
  {
   "cell_type": "code",
   "execution_count": 26,
   "id": "7267b112",
   "metadata": {},
   "outputs": [],
   "source": [
    "#parcel = boundary_ee.filter(ee.Filter.eq(\"OBJECTID\", names[0]))"
   ]
  },
  {
   "cell_type": "code",
   "execution_count": 27,
   "id": "e7c10ed0",
   "metadata": {},
   "outputs": [],
   "source": [
    "#parcel2 = ee.Feature(parcel).buffer(shrinkBuffer * -1.0)"
   ]
  },
  {
   "cell_type": "code",
   "execution_count": 28,
   "id": "68c90763",
   "metadata": {},
   "outputs": [],
   "source": [
    "allMeans = []  # List of dictionaries with date/mean ndvi pairs for each parcel (name)\n",
    "allPixels = []  # List of dictionaries with date/number of valid pixels for each parcel \n",
    "allMaskedPixels = [] # List of dictionaries with date/number of all pixels for each parcel \n",
    "#allNames = []\n",
    "names = boundary_ee.aggregate_array(\"OBJECTID\").getInfo()\n",
    "\n",
    "for index in range(0, len(names)):\n",
    "    polygon = boundary_ee.filter(ee.Filter.eq(\"OBJECTID\", names[index]))\n",
    "    polygon_buffered = polygon.geometry().buffer(shrinkBuffer * -1.0)\n",
    "    mean = multiBandNDVI.reduceRegion(\n",
    "        reducer = ee.Reducer.mean(), \n",
    "        geometry = polygon_buffered,\n",
    "        scale = 10\n",
    "    )\n",
    "    pixels = multiBandNDVI.reduceRegion(\n",
    "        reducer = ee.Reducer.count(), \n",
    "        geometry = polygon_buffered,\n",
    "        scale = 10\n",
    "    )\n",
    "    #unmaskedNDVI = multiBandNDVI.unmask(1)\n",
    "    maskedPixels = multiBandNDVI.unmask(1).reduceRegion(\n",
    "        reducer = ee.Reducer.count(), \n",
    "        geometry = polygon_buffered,\n",
    "        scale = 10\n",
    "    )\n",
    "    #allNames.append(names[index])\n",
    "    allMeans.append(mean.getInfo())  \n",
    "    allPixels.append(pixels.getInfo())\n",
    "    allMaskedPixels.append(maskedPixels.getInfo())"
   ]
  },
  {
   "cell_type": "code",
   "execution_count": 29,
   "id": "8e048ae7",
   "metadata": {},
   "outputs": [],
   "source": [
    "images = sentinelCollection.toList(sentinelCollection.size())"
   ]
  },
  {
   "cell_type": "code",
   "execution_count": 30,
   "id": "725b5c1d",
   "metadata": {},
   "outputs": [
    {
     "name": "stdout",
     "output_type": "stream",
     "text": [
      "35\n"
     ]
    }
   ],
   "source": [
    "print(sentinelCollection.size().getInfo()-1)"
   ]
  },
  {
   "cell_type": "code",
   "execution_count": 31,
   "id": "088391a9",
   "metadata": {
    "scrolled": true
   },
   "outputs": [
    {
     "data": {
      "text/plain": [
       "'\\nMap=geemap.Map()\\nMap.centerObject(boundary_bounds, 13)\\nfor index in range(0, sentinelCollection.size().getInfo()):\\n    print(\"Processing \" + dateList[index] + \": \" + str(sentinelCollection.size().getInfo()-1 - index ) + \" images to go      \", end = \"\\r\")\\n    image = ee.Image(images.get(index))\\n#    mean = image.select(\\'nd\\').reduceRegions(\\n#        reducer = ee.Reducer.mean(), \\n#        geometry = boundary_buffered,\\n#        scale = 20\\n#    )\\n    Map.addLayer(image, sentinel_vis, dateList[index])\\n#Map.addLayer(boundary_buffered, {}, \"Boundary EE\")\\nMap.addLayer(boundary_ee, {}, \"Boundary\")\\n#Map.addLayer(parcel, {}, \"Boundary\")\\n\\n# Display the map.\\nMap\\n'"
      ]
     },
     "execution_count": 31,
     "metadata": {},
     "output_type": "execute_result"
    }
   ],
   "source": [
    "'''\n",
    "Map=geemap.Map()\n",
    "Map.centerObject(boundary_bounds, 13)\n",
    "for index in range(0, sentinelCollection.size().getInfo()):\n",
    "    print(\"Processing \" + dateList[index] + \": \" + str(sentinelCollection.size().getInfo()-1 - index ) + \" images to go      \", end = \"\\r\")\n",
    "    image = ee.Image(images.get(index))\n",
    "#    mean = image.select('nd').reduceRegions(\n",
    "#        reducer = ee.Reducer.mean(), \n",
    "#        geometry = boundary_buffered,\n",
    "#        scale = 20\n",
    "#    )\n",
    "    Map.addLayer(image, sentinel_vis, dateList[index])\n",
    "#Map.addLayer(boundary_buffered, {}, \"Boundary EE\")\n",
    "Map.addLayer(boundary_ee, {}, \"Boundary\")\n",
    "#Map.addLayer(parcel, {}, \"Boundary\")\n",
    "\n",
    "# Display the map.\n",
    "Map\n",
    "'''"
   ]
  },
  {
   "cell_type": "code",
   "execution_count": 32,
   "id": "86214bd4",
   "metadata": {},
   "outputs": [],
   "source": [
    "#print(allMaskedPixels[14])"
   ]
  },
  {
   "cell_type": "code",
   "execution_count": 33,
   "id": "173cb8ba",
   "metadata": {},
   "outputs": [],
   "source": [
    "#allMaskedPixels[9].items()"
   ]
  },
  {
   "cell_type": "code",
   "execution_count": 34,
   "id": "7af7abc9",
   "metadata": {},
   "outputs": [
    {
     "data": {
      "text/plain": [
       "str"
      ]
     },
     "execution_count": 34,
     "metadata": {},
     "output_type": "execute_result"
    }
   ],
   "source": [
    "#print(endDates)\n",
    "#print(i)\n",
    "type(dateList[1])"
   ]
  },
  {
   "cell_type": "code",
   "execution_count": 35,
   "id": "cd737592",
   "metadata": {},
   "outputs": [
    {
     "name": "stdout",
     "output_type": "stream",
     "text": [
      "dict_keys(['2022_01_07', '2022_01_09', '2022_01_12', '2022_01_14', '2022_01_17', '2022_01_19', '2022_01_22', '2022_01_24', '2022_01_27', '2022_01_29', '2022_02_01', '2022_02_06', '2022_02_08', '2022_02_11', '2022_02_13', '2022_02_16', '2022_02_18', '2022_02_21', '2022_02_23', '2022_02_28', '2022_03_05', '2022_03_08', '2022_03_10', '2022_03_13', '2022_03_18', '2022_03_20', '2022_03_23', '2022_03_25', '2022_04_02', '2022_04_07', '2022_04_09', '2022_04_17', '2022_04_22', '2022_04_24', '2022_04_27', '2022_04_29'])\n"
     ]
    }
   ],
   "source": [
    " print(allMeans[2].keys())"
   ]
  },
  {
   "cell_type": "code",
   "execution_count": 36,
   "id": "7a2e70ea",
   "metadata": {},
   "outputs": [],
   "source": [
    "#type(dateMeans)\n",
    "#len(plotDateMeans)\n",
    "#sum(plotDateMeans)/len(plotDateMeans)\n",
    "#len(endDates)\n"
   ]
  },
  {
   "cell_type": "code",
   "execution_count": 37,
   "id": "8618a880",
   "metadata": {},
   "outputs": [],
   "source": [
    "dateMeans = []\n",
    "\n",
    "for x in range(0, len(dateList)):\n",
    "    plotDateMeans = []\n",
    "    for y in range(0, len(allMeans)):\n",
    "        plotDateMeans.append(allMeans[y][dateList[x]])\n",
    "    plotDateMeans = list(filter(None, plotDateMeans))\n",
    "    if (len(plotDateMeans)) > 0:\n",
    "        dateMeans.append(sum(plotDateMeans)/len(plotDateMeans))   \n",
    "    else:\n",
    "        dateMeans.append(0.0)   \n",
    "        "
   ]
  },
  {
   "cell_type": "code",
   "execution_count": 38,
   "id": "a68e9f54",
   "metadata": {},
   "outputs": [
    {
     "name": "stdout",
     "output_type": "stream",
     "text": [
      "[{'2022_01_07': None, '2022_01_09': 0.8400401561011704, '2022_01_12': 0.8335017305009581, '2022_01_14': 0.8453675984645589, '2022_01_17': 0.803416621430506, '2022_01_19': 0.8345450717172479, '2022_01_22': 0.8457835130472328, '2022_01_24': 0.8345210616308165, '2022_01_27': 0.5493839161326993, '2022_01_29': 0.5428450309574832, '2022_02_01': 0.5370343494155859, '2022_02_06': 0.5191469788367726, '2022_02_08': 0.5266012305644157, '2022_02_11': 0.5084391466024294, '2022_02_13': 0.47324241771752673, '2022_02_16': 0.4144681814398926, '2022_02_18': 0.4171019563948423, '2022_02_21': 0.4363204797466387, '2022_02_23': 0.45703029109869053, '2022_02_28': 0.37493751948558907, '2022_03_05': 0.4284507389883179, '2022_03_08': 0.429193516028642, '2022_03_10': 0.46204044019565876, '2022_03_13': 0.460600669606894, '2022_03_18': 0.47088022955185926, '2022_03_20': 0.5071164200218266, '2022_03_23': 0.5183252940284392, '2022_03_25': 0.5304076019720135, '2022_04_02': 0.4345714516103978, '2022_04_07': 0.4521083252119848, '2022_04_09': 0.4738153287914033, '2022_04_17': 0.505882249581581, '2022_04_22': 0.5201165255847374, '2022_04_24': 0.5016750447113377, '2022_04_27': 0.515540426625042, '2022_04_29': 0.4472221465950013}, {'2022_01_07': None, '2022_01_09': 0.8479206670677599, '2022_01_12': 0.8605406475664588, '2022_01_14': 0.863571317690191, '2022_01_17': 0.7377069653367194, '2022_01_19': 0.8525446653895499, '2022_01_22': 0.8819129356127373, '2022_01_24': 0.8653467685686543, '2022_01_27': 0.5897952124735774, '2022_01_29': 0.5923072974008043, '2022_02_01': 0.5923855208153475, '2022_02_06': 0.5935649171914146, '2022_02_08': 0.5602248016196698, '2022_02_11': 0.46991044360213197, '2022_02_13': 0.4244558555504444, '2022_02_16': 0.36148387192988674, '2022_02_18': 0.35335165802893603, '2022_02_21': 0.36425190082750825, '2022_02_23': 0.38334889915959774, '2022_02_28': 0.364545832626617, '2022_03_05': 0.31998506404454125, '2022_03_08': 0.3102413508876326, '2022_03_10': 0.3610966934701627, '2022_03_13': 0.34728563998360035, '2022_03_18': 0.36077391079830706, '2022_03_20': 0.3855795210134457, '2022_03_23': 0.4037732203626237, '2022_03_25': 0.4107917176597458, '2022_04_02': 0.4029938281232899, '2022_04_07': 0.1928517534931529, '2022_04_09': 0.1878394818297586, '2022_04_17': 0.16740788021473554, '2022_04_22': None, '2022_04_24': 0.17597759327079407, '2022_04_27': 0.17968858300210233, '2022_04_29': 0.1781718836788712}, {'2022_01_07': None, '2022_01_09': 0.8396441922015538, '2022_01_12': 0.8446547537789152, '2022_01_14': 0.8492141315310872, '2022_01_17': 0.6734697582988425, '2022_01_19': 0.8410516852575959, '2022_01_22': 0.8673933822265621, '2022_01_24': 0.8521413668565934, '2022_01_27': 0.5678037484988725, '2022_01_29': 0.5707602983878056, '2022_02_01': 0.5745728461651166, '2022_02_06': 0.5712312069473562, '2022_02_08': 0.5718441780714767, '2022_02_11': 0.5659187372285889, '2022_02_13': 0.5676659706589748, '2022_02_16': 0.5081328079669094, '2022_02_18': 0.37990167154248305, '2022_02_21': 0.35513146419003516, '2022_02_23': 0.3611967711890755, '2022_02_28': 0.323286270690496, '2022_03_05': 0.3364680138250904, '2022_03_08': 0.2812287032021181, '2022_03_10': 0.32373829400368703, '2022_03_13': 0.3053344677269101, '2022_03_18': 0.31511001923804605, '2022_03_20': 0.3348033412881212, '2022_03_23': 0.3457619019118531, '2022_03_25': 0.35282063840762545, '2022_04_02': 0.34935177909023585, '2022_04_07': 0.1809332002456667, '2022_04_09': 0.1745731972335904, '2022_04_17': 0.1581140802437771, '2022_04_22': None, '2022_04_24': 0.16931699058503835, '2022_04_27': 0.17214613437127865, '2022_04_29': 0.1704616334409614}, {'2022_01_07': None, '2022_01_09': 0.8574897335431488, '2022_01_12': 0.8605814664432277, '2022_01_14': 0.8664143222883637, '2022_01_17': 0.8302250540445067, '2022_01_19': 0.855454263622931, '2022_01_22': 0.863878090620141, '2022_01_24': 0.8538014762670094, '2022_01_27': 0.5738209656908194, '2022_01_29': 0.5646958823043776, '2022_02_01': 0.5608185995320674, '2022_02_06': 0.5465079060874406, '2022_02_08': 0.5527726591239199, '2022_02_11': 0.5405424548724852, '2022_02_13': 0.5551960643194297, '2022_02_16': 0.5185275891709415, '2022_02_18': 0.46704537439255167, '2022_02_21': 0.39993413860247584, '2022_02_23': 0.4142428121469028, '2022_02_28': 0.3391264066937873, '2022_03_05': 0.3898369001786836, '2022_03_08': 0.391800178966928, '2022_03_10': 0.42228656180719837, '2022_03_13': 0.42813435691806373, '2022_03_18': 0.44791287251500506, '2022_03_20': 0.48162048842412947, '2022_03_23': 0.49405481706956245, '2022_03_25': 0.4414006011360825, '2022_04_02': 0.4402589333253346, '2022_04_07': 0.4637960386088285, '2022_04_09': 0.4806233480763745, '2022_04_17': 0.5112606337468394, '2022_04_22': 0.5161247937494383, '2022_04_24': 0.5034263594839096, '2022_04_27': 0.520928077564538, '2022_04_29': 0.5253474565602575}, {'2022_01_07': None, '2022_01_09': 0.854880184322473, '2022_01_12': 0.8656228032588873, '2022_01_14': 0.8602816497984905, '2022_01_17': 0.8117207090261693, '2022_01_19': 0.8549163813942506, '2022_01_22': 0.8847106190554358, '2022_01_24': 0.8676266862713636, '2022_01_27': 0.5813277427121041, '2022_01_29': 0.5840222177756793, '2022_02_01': 0.5824203842248991, '2022_02_06': 0.5860500135349543, '2022_02_08': 0.592930012845519, '2022_02_11': 0.5086506131180367, '2022_02_13': 0.5120806199990223, '2022_02_16': 0.504375260978692, '2022_02_18': 0.5019085292208787, '2022_02_21': 0.34321467013927964, '2022_02_23': 0.3428557872336652, '2022_02_28': 0.2974000583865309, '2022_03_05': 0.27028276982123095, '2022_03_08': 0.27562498617275555, '2022_03_10': 0.31543124836684916, '2022_03_13': 0.3076970924951462, '2022_03_18': 0.33081611994095833, '2022_03_20': 0.3621326481415052, '2022_03_23': 0.37979799162097755, '2022_03_25': 0.3948837123569706, '2022_04_02': 0.3974439176656071, '2022_04_07': 0.1798467718218167, '2022_04_09': 0.17756610557070013, '2022_04_17': 0.17918045041948846, '2022_04_22': None, '2022_04_24': 0.1983354288641536, '2022_04_27': 0.20419070175597864, '2022_04_29': 0.2053832361595084}, {'2022_01_07': None, '2022_01_09': 0.7419175952163235, '2022_01_12': 0.7629771043351018, '2022_01_14': 0.7545262995058424, '2022_01_17': 0.7219485453028016, '2022_01_19': 0.7469189878786987, '2022_01_22': 0.7874285717194104, '2022_01_24': 0.7705718579696974, '2022_01_27': 0.4782297539446891, '2022_01_29': 0.48072341686071207, '2022_02_01': 0.48944944744664026, '2022_02_06': 0.4891190515646367, '2022_02_08': 0.49166444245001334, '2022_02_11': 0.42710673290717616, '2022_02_13': 0.43521922006466757, '2022_02_16': 0.4342041323768109, '2022_02_18': 0.43490017577443313, '2022_02_21': 0.3143987713719346, '2022_02_23': 0.30146757927520035, '2022_02_28': 0.2742764970527055, '2022_03_05': 0.25703598308094344, '2022_03_08': 0.26392935636547943, '2022_03_10': 0.2977045752417775, '2022_03_13': 0.29721632823398286, '2022_03_18': 0.31419919526767875, '2022_03_20': 0.3382179931960129, '2022_03_23': 0.3518743035637955, '2022_03_25': 0.36125339430273923, '2022_04_02': 0.3841717707099834, '2022_04_07': 0.1791257232503923, '2022_04_09': 0.17371548925611852, '2022_04_17': 0.1617611733731703, '2022_04_22': 0.20223571109334387, '2022_04_24': 0.17149309821788136, '2022_04_27': 0.16931610523034332, '2022_04_29': 0.16194657522750297}, {'2022_01_07': None, '2022_01_09': 0.7839255309180808, '2022_01_12': 0.7929286785721322, '2022_01_14': 0.790285068235926, '2022_01_17': 0.7635109284951792, '2022_01_19': 0.7847912488577621, '2022_01_22': 0.8021525218878918, '2022_01_24': 0.7936231851690445, '2022_01_27': 0.5246056019462665, '2022_01_29': 0.5020727267229927, '2022_02_01': 0.5006527513357368, '2022_02_06': 0.49419437568121, '2022_02_08': 0.5055123108608042, '2022_02_11': 0.4914165830644266, '2022_02_13': 0.5144404102992722, '2022_02_16': 0.5144129702650102, '2022_02_18': 0.5180090639354062, '2022_02_21': 0.4925914395189804, '2022_02_23': 0.42825107039815, '2022_02_28': 0.28372058612365425, '2022_03_05': 0.3165185527870599, '2022_03_08': 0.28126010535929813, '2022_03_10': 0.30845540591788895, '2022_03_13': 0.317655988622605, '2022_03_18': 0.36072065615876214, '2022_03_20': 0.3900115555867904, '2022_03_23': 0.3999515945590473, '2022_03_25': 0.4201398126795446, '2022_04_02': 0.44388709080335603, '2022_04_07': 0.4785103736841367, '2022_04_09': 0.4985643266020281, '2022_04_17': 0.531749286135545, '2022_04_22': 0.5562006195528578, '2022_04_24': 0.5121499103704527, '2022_04_27': 0.5307225750801394, '2022_04_29': 0.5380166910453501}, {'2022_01_07': None, '2022_01_09': 0.8326148574027988, '2022_01_12': 0.8447712590368757, '2022_01_14': 0.8430721091078912, '2022_01_17': 0.7007304252124635, '2022_01_19': 0.832419216158737, '2022_01_22': 0.8575244582043484, '2022_01_24': 0.8433995973729617, '2022_01_27': 0.5759699163145882, '2022_01_29': 0.5794392042840011, '2022_02_01': 0.5811793823059566, '2022_02_06': 0.5709615688454018, '2022_02_08': 0.574665721073522, '2022_02_11': 0.5717540086138041, '2022_02_13': 0.5100485192175133, '2022_02_16': 0.5113794431919587, '2022_02_18': 0.5176628535148992, '2022_02_21': 0.5308944566821748, '2022_02_23': 0.47132964791005577, '2022_02_28': 0.3244150301267857, '2022_03_05': 0.296711264154831, '2022_03_08': 0.29768976095696764, '2022_03_10': 0.31521678097606565, '2022_03_13': 0.32432339290288664, '2022_03_18': 0.3339331075425491, '2022_03_20': 0.34791002569846535, '2022_03_23': 0.357532968307821, '2022_03_25': 0.36619324506100176, '2022_04_02': 0.3692720293158808, '2022_04_07': 0.37719671943761773, '2022_04_09': 0.39146440829174173, '2022_04_17': 0.38807623492776444, '2022_04_22': 0.39763819763439495, '2022_04_24': 0.3919895419451367, '2022_04_27': 0.4007626259319172, '2022_04_29': 0.38265184298640287}, {'2022_01_07': None, '2022_01_09': 0.831781753192058, '2022_01_12': 0.8446310692327749, '2022_01_14': 0.8463636286431955, '2022_01_17': 0.8015423502052873, '2022_01_19': 0.8348728672869108, '2022_01_22': 0.8639421704683897, '2022_01_24': 0.8486917229532748, '2022_01_27': 0.575991614641418, '2022_01_29': 0.580042559423826, '2022_02_01': 0.5786929697667419, '2022_02_06': 0.5763760094988405, '2022_02_08': 0.5783448134133027, '2022_02_11': 0.5726689111525426, '2022_02_13': 0.511385595579481, '2022_02_16': 0.5086445836445832, '2022_02_18': 0.5103238952566699, '2022_02_21': 0.5243308524662785, '2022_02_23': 0.5408360320154223, '2022_02_28': 0.4141037280297574, '2022_03_05': 0.4007063495486997, '2022_03_08': 0.39632248154464655, '2022_03_10': 0.34413509826423705, '2022_03_13': 0.339542800523228, '2022_03_18': 0.34059776596152336, '2022_03_20': 0.3486097970527506, '2022_03_23': 0.3562876358151433, '2022_03_25': 0.36301866603364646, '2022_04_02': 0.3582060565918533, '2022_04_07': 0.36244137456359904, '2022_04_09': 0.3684754124310542, '2022_04_17': 0.2622318627969082, '2022_04_22': 0.250329820528344, '2022_04_24': 0.2502805410322512, '2022_04_27': 0.25944327445406334, '2022_04_29': 0.20893393558380363}, {'2022_01_07': None, '2022_01_09': 0.7958899145984472, '2022_01_12': 0.8067158956445387, '2022_01_14': 0.7896982126342731, '2022_01_17': 0.7561093457494098, '2022_01_19': 0.7740100443145932, '2022_01_22': 0.7699680828851667, '2022_01_24': 0.758547411806541, '2022_01_27': 0.49035226284303446, '2022_01_29': 0.4943217994522263, '2022_02_01': 0.50531238896367, '2022_02_06': 0.49928430271130375, '2022_02_08': 0.5034209724333089, '2022_02_11': 0.5114213821957477, '2022_02_13': 0.5174721127454041, '2022_02_16': 0.5277739394329, '2022_02_18': 0.5343726448847239, '2022_02_21': 0.5391409260998374, '2022_02_23': 0.5567287524820389, '2022_02_28': 0.4934361294034238, '2022_03_05': 0.38861469008770433, '2022_03_08': 0.38926098543424564, '2022_03_10': 0.4042244283324575, '2022_03_13': 0.38337616079185294, '2022_03_18': 0.3653512886202792, '2022_03_20': 0.3830967795857576, '2022_03_23': 0.39645585993278387, '2022_03_25': 0.41201683420304464, '2022_04_02': 0.4314590545035212, '2022_04_07': 0.4677041106375711, '2022_04_09': 0.4855325343296819, '2022_04_17': 0.5171252801354432, '2022_04_22': 0.5410625326212277, '2022_04_24': 0.4906206867986683, '2022_04_27': 0.5147172187544419, '2022_04_29': 0.4899717800037808}, {'2022_01_07': None, '2022_01_09': 0.79520836453594, '2022_01_12': 0.808998375189169, '2022_01_14': 0.8041021107222102, '2022_01_17': 0.7828044769342443, '2022_01_19': 0.7852444212437777, '2022_01_22': 0.7716658046203042, '2022_01_24': 0.7597474370827138, '2022_01_27': 0.5016520358972737, '2022_01_29': 0.5041336321604101, '2022_02_01': 0.5097437245501941, '2022_02_06': 0.5052226785410058, '2022_02_08': 0.5050373470380737, '2022_02_11': 0.5059046183563356, '2022_02_13': 0.5125781543227732, '2022_02_16': 0.522878549890373, '2022_02_18': 0.525023195813031, '2022_02_21': 0.5359102364522008, '2022_02_23': 0.5453151294706032, '2022_02_28': 0.5230270080373902, '2022_03_05': 0.4666724640587199, '2022_03_08': 0.34143617548670535, '2022_03_10': 0.3146212849768209, '2022_03_13': 0.3176485685786068, '2022_03_18': 0.322124037071555, '2022_03_20': 0.3424772688820084, '2022_03_23': 0.3353527718654606, '2022_03_25': 0.34027003449328347, '2022_04_02': 0.3976175129173957, '2022_04_07': 0.4556252871011487, '2022_04_09': 0.486198222992685, '2022_04_17': 0.526697443156479, '2022_04_22': 0.53945448127358, '2022_04_24': 0.5220168761599009, '2022_04_27': 0.5456415297726568, '2022_04_29': 0.5473468842434167}, {'2022_01_07': None, '2022_01_09': 0.8079666750875162, '2022_01_12': 0.8164967750858831, '2022_01_14': 0.8089799452388007, '2022_01_17': 0.7951132286065541, '2022_01_19': 0.7996450450777299, '2022_01_22': 0.8245014790012545, '2022_01_24': 0.8030327153059764, '2022_01_27': 0.5381389365611322, '2022_01_29': 0.5372534787944803, '2022_02_01': 0.5488083963320681, '2022_02_06': 0.5359429114352844, '2022_02_08': 0.5336254380439013, '2022_02_11': 0.5348415134822297, '2022_02_13': 0.5380862016830315, '2022_02_16': 0.5475769952548704, '2022_02_18': 0.5516643711802361, '2022_02_21': 0.4682217396266349, '2022_02_23': 0.562106664413581, '2022_02_28': 0.5462878414377992, '2022_03_05': 0.5655204685683519, '2022_03_08': 0.5591403562443894, '2022_03_10': 0.5728040956267569, '2022_03_13': 0.5456531950250827, '2022_03_18': 0.4434855189394859, '2022_03_20': 0.4081484240095096, '2022_03_23': 0.34886944339576653, '2022_03_25': 0.33102561444384426, '2022_04_02': 0.3544975423113276, '2022_04_07': 0.4012885625255109, '2022_04_09': 0.4240272185673817, '2022_04_17': 0.47822659953131086, '2022_04_22': 0.26157506578110484, '2022_04_24': 0.4687204012444079, '2022_04_27': 0.47321798018667904, '2022_04_29': 0.3874024533361738}, {'2022_01_07': None, '2022_01_09': 0.7507743571990997, '2022_01_12': 0.7675803180624429, '2022_01_14': 0.7628293636509791, '2022_01_17': 0.6457861087858179, '2022_01_19': 0.7540238085322473, '2022_01_22': 0.7863503775105012, '2022_01_24': 0.7754260584894279, '2022_01_27': 0.5026392328539355, '2022_01_29': 0.5080154821749645, '2022_02_01': 0.5005731805353256, '2022_02_06': 0.5091307006140433, '2022_02_08': 0.5089044855147604, '2022_02_11': 0.49348149090911914, '2022_02_13': 0.5109486510159614, '2022_02_16': 0.4715671572605835, '2022_02_18': 0.466585284411776, '2022_02_21': 0.4782637962345299, '2022_02_23': 0.4985581666877368, '2022_02_28': 0.47024382923766417, '2022_03_05': 0.4900900633688235, '2022_03_08': 0.4383673156976886, '2022_03_10': 0.44347506979283896, '2022_03_13': 0.42461497941746446, '2022_03_18': 0.3047347518900342, '2022_03_20': 0.2907393949832985, '2022_03_23': 0.28322750458744445, '2022_03_25': 0.2887309991368916, '2022_04_02': 0.3010651538097816, '2022_04_07': 0.3090692824172129, '2022_04_09': 0.31801832765784527, '2022_04_17': 0.26655231105744287, '2022_04_22': 0.2798512074363533, '2022_04_24': 0.2776890228228908, '2022_04_27': 0.29026107255779804, '2022_04_29': 0.2856811969630726}, {'2022_01_07': None, '2022_01_09': 0.6146968122422882, '2022_01_12': 0.640973467295837, '2022_01_14': 0.6256479267782051, '2022_01_17': 0.5773597127663535, '2022_01_19': 0.6250600468950458, '2022_01_22': 0.6666639026697437, '2022_01_24': 0.645644303796892, '2022_01_27': 0.40179820496938556, '2022_01_29': 0.4066948159428959, '2022_02_01': 0.4223448170012011, '2022_02_06': 0.42304102293522855, '2022_02_08': 0.4306114541727226, '2022_02_11': 0.44228220162886334, '2022_02_13': 0.45021888388072734, '2022_02_16': 0.4576901715410243, '2022_02_18': 0.4682121651012276, '2022_02_21': 0.4864385221148259, '2022_02_23': 0.4949506041241495, '2022_02_28': 0.47746044151776323, '2022_03_05': 0.3203158706826411, '2022_03_08': 0.3154014367469963, '2022_03_10': 0.3298920120428036, '2022_03_13': 0.34347139370233587, '2022_03_18': 0.3744375915859548, '2022_03_20': 0.3972213634926089, '2022_03_23': 0.42465428386826, '2022_03_25': 0.4435957994874922, '2022_04_02': 0.45634347301370937, '2022_04_07': 0.48759027160251356, '2022_04_09': 0.5097863196127856, '2022_04_17': 0.5267069330572849, '2022_04_22': 0.5366864121376023, '2022_04_24': 0.505329264680386, '2022_04_27': 0.526449757255336, '2022_04_29': 0.48756675459748294}, {'2022_01_07': None, '2022_01_09': 0.7662733449797184, '2022_01_12': 0.7895444743163857, '2022_01_14': 0.7765037656065652, '2022_01_17': 0.6612894804969807, '2022_01_19': 0.7663516475415989, '2022_01_22': 0.7984930308719881, '2022_01_24': 0.776340235078555, '2022_01_27': 0.507342201501451, '2022_01_29': 0.5120972745762723, '2022_02_01': 0.521426932804379, '2022_02_06': 0.5157045751152967, '2022_02_08': 0.5196744431149851, '2022_02_11': 0.5244942254887464, '2022_02_13': 0.5288953248276581, '2022_02_16': 0.5318283361508069, '2022_02_18': 0.5375517206366818, '2022_02_21': 0.5539981228994214, '2022_02_23': 0.5545199085812825, '2022_02_28': 0.5418951433507606, '2022_03_05': 0.542866431304313, '2022_03_08': 0.46811958521611174, '2022_03_10': 0.4424918684932853, '2022_03_13': 0.3627754070521285, '2022_03_18': 0.3507712153835057, '2022_03_20': 0.3738331336257079, '2022_03_23': 0.3886454615669676, '2022_03_25': 0.3495370613959337, '2022_04_02': 0.3872872176153262, '2022_04_07': 0.4251002150843303, '2022_04_09': 0.44933619647521655, '2022_04_17': 0.4793870899369372, '2022_04_22': 0.4991860426214237, '2022_04_24': 0.47709107409485024, '2022_04_27': 0.494856675631483, '2022_04_29': 0.49763304392020496}, {'2022_01_07': None, '2022_01_09': 0.7140729540911257, '2022_01_12': 0.7205658708223966, '2022_01_14': 0.7266549416578377, '2022_01_17': 0.6951455017502254, '2022_01_19': 0.719330999863524, '2022_01_22': 0.7449899344435693, '2022_01_24': 0.7351574945060698, '2022_01_27': 0.47308233873263356, '2022_01_29': 0.4785583033062867, '2022_02_01': 0.48073086111834124, '2022_02_06': 0.4797140346309556, '2022_02_08': 0.48396310072080767, '2022_02_11': 0.47956325824745494, '2022_02_13': 0.48743917138853904, '2022_02_16': 0.48176410653821217, '2022_02_18': 0.481870215855411, '2022_02_21': 0.47097763778974666, '2022_02_23': 0.4983332673374931, '2022_02_28': 0.47239794792242346, '2022_03_05': 0.4855943668822469, '2022_03_08': 0.4651332506327467, '2022_03_10': 0.4750073893121073, '2022_03_13': 0.4489658111226259, '2022_03_18': 0.41964041934704094, '2022_03_20': 0.4134161090386288, '2022_03_23': 0.35398956404134546, '2022_03_25': 0.3416832649239268, '2022_04_02': 0.313755893119075, '2022_04_07': 0.3053923199762811, '2022_04_09': 0.3064266629266322, '2022_04_17': 0.3137559220340787, '2022_04_22': 0.31991647721403454, '2022_04_24': 0.3224494267305512, '2022_04_27': 0.34274000327608173, '2022_04_29': 0.34432575741830096}, {'2022_01_07': None, '2022_01_09': 0.7244590737591825, '2022_01_12': 0.7359865454214607, '2022_01_14': 0.7408160142920682, '2022_01_17': 0.674277676232734, '2022_01_19': 0.7334125737709098, '2022_01_22': 0.7637077545179376, '2022_01_24': 0.7493306553184561, '2022_01_27': 0.5056304993199322, '2022_01_29': 0.5008890135257972, '2022_02_01': 0.5125247444528268, '2022_02_06': 0.508316356492585, '2022_02_08': 0.5079941895132591, '2022_02_11': 0.5072093061115901, '2022_02_13': 0.5091910949755586, '2022_02_16': 0.5056763992175995, '2022_02_18': 0.5051042923043698, '2022_02_21': 0.5078766541122746, '2022_02_23': 0.5170895509104714, '2022_02_28': 0.4938336560771897, '2022_03_05': 0.5019705459808909, '2022_03_08': 0.484626971367058, '2022_03_10': 0.49033088296342986, '2022_03_13': 0.4661569322322237, '2022_03_18': 0.43364200486064003, '2022_03_20': 0.43511030384495036, '2022_03_23': 0.41341910556812245, '2022_03_25': 0.3626811428659783, '2022_04_02': 0.3116990240878382, '2022_04_07': 0.30362934918674683, '2022_04_09': 0.30067728433251595, '2022_04_17': 0.30439186589575806, '2022_04_22': 0.3360626206205324, '2022_04_24': 0.30844283454859533, '2022_04_27': 0.3326270092730804, '2022_04_29': 0.3385302774396052}, {'2022_01_07': None, '2022_01_09': 0.8340242740006605, '2022_01_12': 0.8335266332474489, '2022_01_14': 0.8427438779023234, '2022_01_17': 0.8164807807532986, '2022_01_19': 0.8317761371843938, '2022_01_22': 0.8371290196494768, '2022_01_24': 0.8220682395694665, '2022_01_27': 0.5469678699382975, '2022_01_29': 0.5504596856955415, '2022_02_01': 0.5532883037469829, '2022_02_06': 0.5404032229426884, '2022_02_08': 0.5402610365050721, '2022_02_11': 0.5300958919718028, '2022_02_13': 0.5447745352926805, '2022_02_16': 0.54423560183281, '2022_02_18': 0.549528218847219, '2022_02_21': 0.5530356807628068, '2022_02_23': 0.5570571994404504, '2022_02_28': 0.531483985044336, '2022_03_05': 0.5442881163214105, '2022_03_08': 0.5375833807296707, '2022_03_10': 0.540428232293865, '2022_03_13': 0.518162002361718, '2022_03_18': 0.496192554591515, '2022_03_20': 0.517321183423054, '2022_03_23': 0.5191111819733275, '2022_03_25': 0.5099976874443293, '2022_04_02': 0.3076427765303542, '2022_04_07': 0.30365313303651065, '2022_04_09': 0.3120617643742905, '2022_04_17': 0.3455281395276414, '2022_04_22': 0.35730134725460977, '2022_04_24': 0.35307630436593523, '2022_04_27': 0.3817891035474154, '2022_04_29': 0.3742804379895955}, {'2022_01_07': None, '2022_01_09': 0.8741341520853653, '2022_01_12': 0.883610724552336, '2022_01_14': 0.8837579305239204, '2022_01_17': 0.8250232094200877, '2022_01_19': 0.873859970611598, '2022_01_22': 0.8957976127746387, '2022_01_24': 0.877017966377881, '2022_01_27': 0.6291794653917192, '2022_01_29': 0.6293741832239644, '2022_02_01': 0.6309554305047783, '2022_02_06': 0.6203239466200928, '2022_02_08': 0.6152197540237493, '2022_02_11': 0.6047411946740475, '2022_02_13': 0.6091831902141918, '2022_02_16': 0.6130335226557041, '2022_02_18': 0.6087764273947676, '2022_02_21': 0.5880890215562755, '2022_02_23': 0.6137376694671256, '2022_02_28': 0.5898483446942218, '2022_03_05': 0.5996179278406046, '2022_03_08': 0.5876402987165602, '2022_03_10': 0.5962108268616597, '2022_03_13': 0.578502546160427, '2022_03_18': 0.5442659041880862, '2022_03_20': 0.544063992487062, '2022_03_23': 0.5542395672090342, '2022_03_25': 0.549412923963486, '2022_04_02': 0.4170423911598867, '2022_04_07': 0.43224723651325625, '2022_04_09': 0.4476951469869146, '2022_04_17': 0.47366384459178146, '2022_04_22': 0.40171825042843085, '2022_04_24': 0.44393000701802454, '2022_04_27': 0.45517004501598535, '2022_04_29': 0.3332499606977822}]\n"
     ]
    }
   ],
   "source": [
    "print(allMeans)"
   ]
  },
  {
   "cell_type": "code",
   "execution_count": 39,
   "id": "05b60ed1",
   "metadata": {},
   "outputs": [],
   "source": [
    "#https://python-course.eu/matplotlib_subplots.php\n",
    "m, n = 3, 2\n",
    "counter = -1\n",
    "start = date.fromtimestamp(startDate.getInfo()[\"value\"]/1000)\n",
    "end = date.fromtimestamp(endDate.getInfo()[\"value\"]/1000)\n",
    "with PdfPages(outputPDF) as pdf:\n",
    "    f, axarr = plt.subplots(m, n, figsize=(8.5, 11))\n",
    "    arr_ij = [(x, y) for x, y in np.ndindex(axarr.shape)]\n",
    "    subplots = [axarr[index] for index in arr_ij]\n",
    "    splot_index = 0\n",
    "    for s, splot in enumerate(subplots):\n",
    "        splot.xaxis.set_major_formatter(mdates.DateFormatter('%m-%d'))\n",
    "        plt.setp(splot.get_xticklabels(), rotation = 15)\n",
    "        plt.rcParams.update({\"font.size\": 5})\n",
    "        \n",
    "        splot.set_ylim(-0.3, 0.3)\n",
    "        splot.set_xlim(start, end)\n",
    "        splot.set_xlabel(\"Date\")\n",
    "        splot.set_ylabel(\"NDVI\")\n",
    "        #splot.set_title(\"Plot \" + str(names[s]))\n",
    "        \n",
    "        \n",
    "        splot.grid(axis=\"y\")\n",
    "        counter += 1\n",
    "        if counter < len(endDates):\n",
    "            if endDates[s] != '':\n",
    "                splot.axvline(x=datetime.strptime(endDates[counter], \"%Y/%m/%d\"), c=\"firebrick\")\n",
    "                splot.axvline(x=datetime.strptime(startDates[counter], \"%Y/%m/%d\"), c=\"lawngreen\")\n",
    "                \n",
    "    grazingHappened = np.zeros(len(endDates))\n",
    "    #counter = (m * n) - 1\n",
    "    for i in range(0, len(grazingHappened)):\n",
    "        dateWithNDVI = pd.DataFrame(allMeans[i].items(), columns=['ImageDate', 'NDVI'])\n",
    "        dateWithAllMaskedPixels = pd.DataFrame(allMaskedPixels[i].items(), columns=['ImageDate', 'AllMaskedPixels'])\n",
    "        dateWithAllPixels = pd.DataFrame(allPixels[i].items(), columns=['ImageDate', 'AllPixels'])\n",
    "        # Only use plots for a date with > 90% clear (no cloud or shadow) pixels\n",
    "        normalizedNDVI = (dateWithAllPixels[\"AllPixels\"] / dateWithAllMaskedPixels[\"AllMaskedPixels\"] > 0.9) * (dateWithNDVI[\"NDVI\"] - dateMeans)\n",
    "        normalizedNDVI = normalizedNDVI.mask(np.isclose(normalizedNDVI.values, 0.0))\n",
    "        dateWithNDVI['normalizedNDVI'] = normalizedNDVI.values\n",
    "        dateWithNDVI_NoNA = dateWithNDVI.dropna(axis=0)\n",
    "        dates_np = np.array([datetime.strptime(d, \"%Y_%m_%d\").date() for d in dateWithNDVI_NoNA['ImageDate']], dtype='datetime64')\n",
    "        ndvi_np = np.array(dateWithNDVI_NoNA['normalizedNDVI'])\n",
    "        if endDates[i] != '':\n",
    "            \n",
    "            grazingHappened[i]=wasGrazed(dateWithNDVI_NoNA, endDates[i], startDates[i])\n",
    "        else:\n",
    "            grazingHappened[i] = np.nan\n",
    "        subplots[splot_index].plot(dates_np, ndvi_np)\n",
    "        if math.isnan(grazingHappened[i]):\n",
    "            verified = \"NAN\"\n",
    "        elif grazingHappened[i] != 1.0:\n",
    "            verified = \"False\"\n",
    "        else:\n",
    "            verified = \"True\"\n",
    "        subplots[splot_index].set_title(\"Plot \" + str(names[i]) + \"(\" + verified + \")\")\n",
    "\n",
    "        splot_index += 1\n",
    "        if splot_index == m * n:\n",
    "            plt.subplots_adjust(left=0.125, bottom=0.1, right=0.9, top=0.9,  wspace=0.25, hspace=0.5)\n",
    "            pdf.savefig()\n",
    "            plt.close(f)\n",
    "            f, axarr = plt.subplots(m, n, figsize=(8.5, 11))\n",
    "            arr_ij = [(x, y) for x, y in np.ndindex(axarr.shape)]\n",
    "            subplots = [axarr[index] for index in arr_ij]\n",
    "            splot_index = 0\n",
    "            for s, splot in enumerate(subplots):\n",
    "                splot.xaxis.set_major_formatter(mdates.DateFormatter('%m-%d'))\n",
    "                plt.setp(splot.get_xticklabels(), rotation = 15)\n",
    "                plt.rcParams.update({\"font.size\": 5})\n",
    "                splot.xaxis_date()\n",
    "                splot.set_ylim(-0.3, 0.3)\n",
    "                splot.set_xlim(start, end)\n",
    "                splot.set_xlabel(\"Date\")\n",
    "                splot.set_ylabel(\"NDVI\")\n",
    "                #splot.set_title(\"Plot \" + str(names[s+(m * n * (splot_index + 1))]))\n",
    "                \n",
    "                splot.grid(axis=\"y\")\n",
    "                counter += 1\n",
    "                if counter < len(endDates):\n",
    "                    if (endDates[counter] != ''):\n",
    "                    #splot.axvline(x=datetime.strptime(endDates[s+(m * n * (splot_index + 1))], \"%Y/%m/%d\"), c=\"firebrick\")\n",
    "                    #splot.axvline(x=datetime.strptime(startDates[s+(m * n * (splot_index + 1))], \"%Y/%m/%d\"), c=\"lawngreen\")\n",
    "                        splot.axvline(x=datetime.strptime(endDates[counter], \"%Y/%m/%d\"), c=\"firebrick\")\n",
    "                        splot.axvline(x=datetime.strptime(startDates[counter], \"%Y/%m/%d\"), c=\"lawngreen\")\n",
    "                    \n",
    "\n",
    "    if splot_index != 0:\n",
    "        #plt.subplots_adjust(left=0.125, bottom=0.1, right=0.9, top=0.9, wspace=0.25, hspace=0.5)\n",
    "        pdf.savefig()\n",
    "        plt.close(f)"
   ]
  },
  {
   "cell_type": "code",
   "execution_count": 40,
   "id": "0838a276",
   "metadata": {},
   "outputs": [
    {
     "name": "stdout",
     "output_type": "stream",
     "text": [
      "{'2022_01_07': 328, '2022_01_09': 328, '2022_01_12': 328, '2022_01_14': 328, '2022_01_17': 328, '2022_01_19': 328, '2022_01_22': 328, '2022_01_24': 328, '2022_01_27': 328, '2022_01_29': 328, '2022_02_01': 328, '2022_02_06': 328, '2022_02_08': 328, '2022_02_11': 328, '2022_02_13': 328, '2022_02_16': 328, '2022_02_18': 328, '2022_02_21': 328, '2022_02_23': 328, '2022_02_28': 328, '2022_03_05': 328, '2022_03_08': 328, '2022_03_10': 328, '2022_03_13': 328, '2022_03_18': 328, '2022_03_20': 328, '2022_03_23': 328, '2022_03_25': 328, '2022_04_02': 328, '2022_04_07': 328, '2022_04_09': 328, '2022_04_17': 328, '2022_04_22': 328, '2022_04_24': 328, '2022_04_27': 328, '2022_04_29': 328}\n"
     ]
    }
   ],
   "source": [
    "print(allMaskedPixels[0])"
   ]
  },
  {
   "cell_type": "code",
   "execution_count": 41,
   "id": "3838b7a1",
   "metadata": {},
   "outputs": [],
   "source": [
    "i=0\n",
    "dateWithNDVI = pd.DataFrame(allMeans[i].items(), columns=['ImageDate', 'NDVI'])\n",
    "dateWithAllMaskedPixels = pd.DataFrame(allMaskedPixels[i].items(), columns=['ImageDate', 'AllMaskedPixels'])\n",
    "dateWithAllPixels = pd.DataFrame(allPixels[i].items(), columns=['ImageDate', 'AllPixels'])\n",
    "# Only use plots for a date with > 90% clear (no cloud or shadow) pixels\n",
    "normalizedNDVI = (dateWithAllPixels[\"AllPixels\"] / dateWithAllMaskedPixels[\"AllMaskedPixels\"] > 0.9) * (dateWithNDVI[\"NDVI\"] - dateMeans)\n",
    "normalizedNDVI = normalizedNDVI.mask(np.isclose(normalizedNDVI.values, 0.0))\n",
    "dateWithNDVI['normalizedNDVI'] = normalizedNDVI.values\n",
    "dateWithNDVI_NoNA = dateWithNDVI.dropna(axis=0)\n",
    "dates_np = np.array([datetime.strptime(d, \"%Y_%m_%d\").date() for d in dateWithNDVI_NoNA['ImageDate']], dtype='datetime64')\n",
    "ndvi_np = np.array(dateWithNDVI_NoNA['normalizedNDVI'])"
   ]
  },
  {
   "cell_type": "code",
   "execution_count": 42,
   "id": "e64f795a",
   "metadata": {},
   "outputs": [
    {
     "name": "stdout",
     "output_type": "stream",
     "text": [
      "     ImageDate      NDVI  normalizedNDVI\n",
      "0   2022_01_07       NaN             NaN\n",
      "1   2022_01_09  0.840040        0.044897\n",
      "2   2022_01_12  0.833502        0.027491\n",
      "3   2022_01_14  0.845368        0.041113\n",
      "4   2022_01_17  0.803417        0.062698\n",
      "5   2022_01_19  0.834545        0.039796\n",
      "6   2022_01_22  0.845784        0.029258\n",
      "7   2022_01_24  0.834521        0.032835\n",
      "8   2022_01_27  0.549384        0.017083\n",
      "9   2022_01_29  0.542845        0.010282\n",
      "10  2022_02_01  0.537034        0.001091\n",
      "11  2022_02_06  0.519147       -0.011602\n",
      "12  2022_02_08  0.526601       -0.005150\n",
      "13  2022_02_11  0.508439       -0.006847\n",
      "14  2022_02_13  0.473242       -0.037943\n",
      "15  2022_02_16  0.414468       -0.084461\n",
      "16  2022_02_18  0.417102       -0.073892\n",
      "17  2022_02_21  0.436320       -0.034365\n",
      "18  2022_02_23  0.457030       -0.021862\n",
      "19  2022_02_28  0.374938       -0.053259\n",
      "20  2022_03_05  0.428451        0.011527\n",
      "21  2022_03_08  0.429194        0.033720\n",
      "22  2022_03_10  0.462040        0.053641\n",
      "23  2022_03_13  0.460601        0.064963\n",
      "24  2022_03_18  0.470880        0.085112\n",
      "25  2022_03_20  0.507116        0.107041\n",
      "26  2022_03_23  0.518325        0.116992\n",
      "27  2022_03_25  0.530408        0.131994\n",
      "28  2022_04_02  0.434571        0.052542\n",
      "29  2022_04_07  0.452108        0.096418\n",
      "30  2022_04_09  0.473815        0.107163\n",
      "31  2022_04_17  0.505882        0.132319\n",
      "32  2022_04_22  0.520117             NaN\n",
      "33  2022_04_24  0.501675        0.130938\n",
      "34  2022_04_27  0.515540        0.130793\n",
      "35  2022_04_29  0.447222        0.083847\n"
     ]
    }
   ],
   "source": [
    "print(dateWithNDVI)\n"
   ]
  },
  {
   "cell_type": "code",
   "execution_count": 43,
   "id": "efb67b0e",
   "metadata": {},
   "outputs": [
    {
     "name": "stdout",
     "output_type": "stream",
     "text": [
      "36\n",
      "2022_01_12\n"
     ]
    },
    {
     "data": {
      "text/plain": [
       "True"
      ]
     },
     "execution_count": 43,
     "metadata": {},
     "output_type": "execute_result"
    }
   ],
   "source": [
    "print (sentinelCollection.size().getInfo())\n",
    "print(dateList[2])\n",
    "dateList[2] > dateList[0]"
   ]
  },
  {
   "cell_type": "code",
   "execution_count": 44,
   "id": "0ef627de",
   "metadata": {},
   "outputs": [],
   "source": [
    "#allMeans[0].keys()"
   ]
  },
  {
   "cell_type": "code",
   "execution_count": 45,
   "id": "1d367dc5",
   "metadata": {},
   "outputs": [
    {
     "data": {
      "text/plain": [
       "pandas.core.frame.DataFrame"
      ]
     },
     "execution_count": 45,
     "metadata": {},
     "output_type": "execute_result"
    }
   ],
   "source": [
    "i=0\n",
    "#pd.DataFrame(allMeans[i].items(), columns=['ImageDate', 'NDVI'])\n",
    "type(dateWithNDVI_NoNA)"
   ]
  },
  {
   "cell_type": "code",
   "execution_count": 46,
   "id": "06a40c16",
   "metadata": {},
   "outputs": [
    {
     "data": {
      "text/plain": [
       "<AxesSubplot:xlabel='ImageDate'>"
      ]
     },
     "execution_count": 46,
     "metadata": {},
     "output_type": "execute_result"
    },
    {
     "data": {
      "image/png": "[encoded data removed]",
      "text/plain": [
       "<Figure size 432x288 with 1 Axes>"
      ]
     },
     "metadata": {
      "needs_background": "light"
     },
     "output_type": "display_data"
    }
   ],
   "source": [
    "dateWithNDVI_NoNA.plot(x='ImageDate', y='NDVI')"
   ]
  },
  {
   "cell_type": "code",
   "execution_count": 47,
   "id": "f40949e2",
   "metadata": {},
   "outputs": [
    {
     "name": "stdout",
     "output_type": "stream",
     "text": [
      "{'type': 'Date', 'value': 1640995200000}\n"
     ]
    }
   ],
   "source": [
    "print(startDate.getInfo())"
   ]
  },
  {
   "cell_type": "code",
   "execution_count": 48,
   "id": "e7ccf10a",
   "metadata": {},
   "outputs": [
    {
     "name": "stdout",
     "output_type": "stream",
     "text": [
      "2021-12-31\n",
      "2022-04-29\n"
     ]
    }
   ],
   "source": [
    "start = date.fromtimestamp(startDate.getInfo()[\"value\"]/1000)\n",
    "end = date.fromtimestamp(endDate.getInfo()[\"value\"]/1000)\n",
    "print (start)\n",
    "print(end)"
   ]
  },
  {
   "cell_type": "code",
   "execution_count": 49,
   "id": "c160f65d",
   "metadata": {},
   "outputs": [],
   "source": [
    "#type(dateWithNDVI_NoNA['ImageDate'][0])"
   ]
  },
  {
   "cell_type": "code",
   "execution_count": 50,
   "id": "29f30fd6",
   "metadata": {},
   "outputs": [],
   "source": [
    "ndviDates = np.array([datetime.strptime(d, \"%Y_%m_%d\").date() for d in dateWithNDVI_NoNA['ImageDate']], dtype='datetime64')"
   ]
  },
  {
   "cell_type": "code",
   "execution_count": 51,
   "id": "a24669f9",
   "metadata": {},
   "outputs": [
    {
     "data": {
      "text/plain": [
       "pandas.core.series.Series"
      ]
     },
     "execution_count": 51,
     "metadata": {},
     "output_type": "execute_result"
    }
   ],
   "source": [
    "type(dateWithNDVI_NoNA['NDVI'])"
   ]
  },
  {
   "cell_type": "code",
   "execution_count": 52,
   "id": "04dd96f9",
   "metadata": {},
   "outputs": [],
   "source": [
    "ndvi_np = np.array(dateWithNDVI_NoNA['NDVI'])"
   ]
  },
  {
   "cell_type": "code",
   "execution_count": 53,
   "id": "0af2e09b",
   "metadata": {},
   "outputs": [
    {
     "name": "stdout",
     "output_type": "stream",
     "text": [
      "[0.84004016 0.83350173 0.8453676  0.80341662 0.83454507 0.84578351\n",
      " 0.83452106 0.54938392 0.54284503 0.53703435 0.51914698 0.52660123\n",
      " 0.50843915 0.47324242 0.41446818 0.41710196 0.43632048 0.45703029\n",
      " 0.37493752 0.42845074 0.42919352 0.46204044 0.46060067 0.47088023\n",
      " 0.50711642 0.51832529 0.5304076  0.43457145 0.45210833 0.47381533\n",
      " 0.50588225 0.50167504 0.51554043 0.44722215]\n"
     ]
    }
   ],
   "source": [
    "print(ndvi_np)"
   ]
  },
  {
   "cell_type": "code",
   "execution_count": 54,
   "id": "bb153bd5",
   "metadata": {},
   "outputs": [
    {
     "name": "stdout",
     "output_type": "stream",
     "text": [
      "1\n"
     ]
    }
   ],
   "source": [
    "print(splot_index)"
   ]
  },
  {
   "cell_type": "code",
   "execution_count": 55,
   "id": "290be1e5",
   "metadata": {},
   "outputs": [
    {
     "name": "stdout",
     "output_type": "stream",
     "text": [
      "36\n",
      "19\n",
      "19\n"
     ]
    }
   ],
   "source": [
    "print(len(dateMeans))\n",
    "print(len(allMeans))\n",
    "print(len(allPixels))\n"
   ]
  },
  {
   "cell_type": "code",
   "execution_count": null,
   "id": "0628a79c",
   "metadata": {},
   "outputs": [],
   "source": []
  }
 ],
 "metadata": {
  "kernelspec": {
   "display_name": "Python 3 (ipykernel)",
   "language": "python",
   "name": "python3"
  },
  "language_info": {
   "codemirror_mode": {
    "name": "ipython",
    "version": 3
   },
   "file_extension": ".py",
   "mimetype": "text/x-python",
   "name": "python",
   "nbconvert_exporter": "python",
   "pygments_lexer": "ipython3",
   "version": "3.9.13"
  }
 },
 "nbformat": 4,
 "nbformat_minor": 5
}
